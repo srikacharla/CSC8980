{
  "nbformat": 4,
  "nbformat_minor": 0,
  "metadata": {
    "colab": {
      "name": "Untitled0.ipynb",
      "provenance": [],
      "collapsed_sections": []
    },
    "kernelspec": {
      "name": "python3",
      "display_name": "Python 3"
    }
  },
  "cells": [
    {
      "cell_type": "markdown",
      "metadata": {
        "id": "Sthal4H1QXnC"
      },
      "source": [
        "Name: Sri Harsha Kacharla\r\n",
        "Student Id: 002556509"
      ]
    },
    {
      "cell_type": "markdown",
      "metadata": {
        "id": "BdoVUT1cRdQ3"
      },
      "source": [
        "1: Write a function that finds the factorial of a number. Test the function finding the factorial of the number 10"
      ]
    },
    {
      "cell_type": "code",
      "metadata": {
        "colab": {
          "base_uri": "https://localhost:8080/",
          "height": 0
        },
        "id": "bPZjT2TVRjg9",
        "outputId": "422c8d55-8b00-445c-8a26-0cedee41585b"
      },
      "source": [
        "def fact(number):\r\n",
        "  result = 1\r\n",
        "  if number < 0:\r\n",
        "    print(\"Number less than 0\")\r\n",
        "  elif number == 0:\r\n",
        "    print(1)\r\n",
        "  else:\r\n",
        "    for n in range(1,number+1):\r\n",
        "      result = result * n\r\n",
        "  print(result)\r\n",
        "\r\n",
        "fact(10)"
      ],
      "execution_count": 11,
      "outputs": [
        {
          "output_type": "stream",
          "text": [
            "3628800\n"
          ],
          "name": "stdout"
        }
      ]
    },
    {
      "cell_type": "markdown",
      "metadata": {
        "id": "gai9Y4npS0uB"
      },
      "source": [
        "2: Write a function that determines if a number is a prime number. Test the function with\r\n",
        "the following numbers: 3 and 1251."
      ]
    },
    {
      "cell_type": "code",
      "metadata": {
        "colab": {
          "base_uri": "https://localhost:8080/",
          "height": 0
        },
        "id": "KHJSgu8rS7Jk",
        "outputId": "821a6058-2520-4653-e0c0-529c8e9b1a33"
      },
      "source": [
        "def findPrime(number):\r\n",
        "  if number > 1:\r\n",
        "    for n in range(2, number):\r\n",
        "      if (number % n) == 0:\r\n",
        "        print(number, \"is not a prime number\")\r\n",
        "        break\r\n",
        "    else:\r\n",
        "      print(number, \"is a prime number\")\r\n",
        "  else:\r\n",
        "    print(number, \"is not a prime number\")\r\n",
        "\r\n",
        "findPrime(3)\r\n",
        "findPrime(1251)"
      ],
      "execution_count": 20,
      "outputs": [
        {
          "output_type": "stream",
          "text": [
            "3 is a prime number\n",
            "1251 is not a prime number\n"
          ],
          "name": "stdout"
        }
      ]
    },
    {
      "cell_type": "markdown",
      "metadata": {
        "id": "aMvGR3VlVxY2"
      },
      "source": [
        "3: Write a function that transposes a matrix. Test with a 3 x 3 identity matrix.\r\n"
      ]
    },
    {
      "cell_type": "code",
      "metadata": {
        "colab": {
          "base_uri": "https://localhost:8080/",
          "height": 0
        },
        "id": "L_44rYhZV0HZ",
        "outputId": "0870e675-e55f-4d8c-b940-bbaf2a8e00bd"
      },
      "source": [
        "def transpose(matrix):\r\n",
        "  result = [[0,0,0],\r\n",
        "         [0,0,0],\r\n",
        "         [0,0,0]]\r\n",
        "  for i in range(len(matrix)):\r\n",
        "    for j in range(len(matrix[0])):\r\n",
        "        result[j][i] = matrix[i][j]\r\n",
        "  for r in result:\r\n",
        "    print(r)\r\n",
        "matrix = [[1,2,3],\r\n",
        "    [4,5,6],\r\n",
        "    [7,8,9]]\r\n",
        "\r\n",
        "transpose(matrix)\r\n"
      ],
      "execution_count": 24,
      "outputs": [
        {
          "output_type": "stream",
          "text": [
            "[1, 4, 7]\n",
            "[2, 5, 8]\n",
            "[3, 6, 9]\n"
          ],
          "name": "stdout"
        }
      ]
    },
    {
      "cell_type": "markdown",
      "metadata": {
        "id": "FOj9gOHRWyH-"
      },
      "source": [
        "4: Using Pandas and Numpy, write a piece of code to combine two series into one. Test your code with: \r\n",
        "np.random.seed(0) \r\n",
        "series1 = pd.Series(np.arange(10))\r\n",
        "series2 = pd.Series(np.arange(26))\r\n",
        "Do not forget to set the seed, or your answer won’t be reproducible"
      ]
    },
    {
      "cell_type": "code",
      "metadata": {
        "colab": {
          "base_uri": "https://localhost:8080/",
          "height": 0
        },
        "id": "8FlUvH4fW0cx",
        "outputId": "794a19c5-9234-4cb6-f031-a257c64deca8"
      },
      "source": [
        "import pandas as pd\r\n",
        "import numpy as np\r\n",
        "\r\n",
        "\r\n",
        "def combineSeries(series1, series2):\r\n",
        "    firstList = series1.values.tolist()\r\n",
        "    secondList = series2.values.tolist()\r\n",
        "    print(pd.Series(firstList + list(set(secondList) - set(firstList))))\r\n",
        "\r\n",
        "\r\n",
        "np.random.seed(0)\r\n",
        "series1 = pd.Series(np.arange(10))\r\n",
        "series2 = pd.Series(np.arange(26))\r\n",
        "combineSeries(series1, series2)\r\n"
      ],
      "execution_count": 25,
      "outputs": [
        {
          "output_type": "stream",
          "text": [
            "0      0\n",
            "1      1\n",
            "2      2\n",
            "3      3\n",
            "4      4\n",
            "5      5\n",
            "6      6\n",
            "7      7\n",
            "8      8\n",
            "9      9\n",
            "10    10\n",
            "11    11\n",
            "12    12\n",
            "13    13\n",
            "14    14\n",
            "15    15\n",
            "16    16\n",
            "17    17\n",
            "18    18\n",
            "19    19\n",
            "20    20\n",
            "21    21\n",
            "22    22\n",
            "23    23\n",
            "24    24\n",
            "25    25\n",
            "dtype: int64\n"
          ],
          "name": "stdout"
        }
      ]
    },
    {
      "cell_type": "markdown",
      "metadata": {
        "id": "OnVsUl3ncOEX"
      },
      "source": [
        "5: Using pandas, write a piece of code to convert the first character of each element in a series to uppercase. Test your code with:\r\n",
        "\r\n",
        "series = pd.Series(['nlp', 'will', 'be', 'easy?'])"
      ]
    },
    {
      "cell_type": "code",
      "metadata": {
        "colab": {
          "base_uri": "https://localhost:8080/",
          "height": 0
        },
        "id": "mLzjycmVci29",
        "outputId": "f1741a39-e40d-4d3d-f44b-bbf52665709f"
      },
      "source": [
        "def toUpper(series):\r\n",
        "    for x in range(0,series.size):\r\n",
        "        series[x] = series[x][0].upper()+series[x][1:]\r\n",
        "    print(series.values)\r\n",
        "\r\n",
        "series = pd.Series(['nlp', 'will', 'be', 'easy?'])\r\n",
        "\r\n",
        "toUpper(series)"
      ],
      "execution_count": 28,
      "outputs": [
        {
          "output_type": "stream",
          "text": [
            "['Nlp' 'Will' 'Be' 'Easy?']\n"
          ],
          "name": "stdout"
        }
      ]
    },
    {
      "cell_type": "markdown",
      "metadata": {
        "id": "ToMyVBRbge4r"
      },
      "source": [
        "Bonus: Using pandas, write a piece of code to get the frequency of unique values in the\r\n",
        "entire dataframe (not using built in functions). Test your code with:\r\n",
        "dataFrame = pd.DataFrame(np.random.randint(5, 10, 20).reshape(-1, 4), columns = list('abcd'))"
      ]
    },
    {
      "cell_type": "code",
      "metadata": {
        "colab": {
          "base_uri": "https://localhost:8080/",
          "height": 0
        },
        "id": "NTcHFbH9gnAH",
        "outputId": "28a9e558-5922-4f4c-e863-c7dd018bcc0a"
      },
      "source": [
        "import pandas as pd\r\n",
        "import numpy as np\r\n",
        "def frequency(dataFrame):\r\n",
        "    totalFreq = list()\r\n",
        "    totalRepeated = list()\r\n",
        "    for x in dataFrame.values:\r\n",
        "        freq = list()\r\n",
        "        repeated = list()\r\n",
        "        print(x)\r\n",
        "        for y in x:\r\n",
        "            if(totalFreq.__contains__(y)):\r\n",
        "                totalFreq.remove(y)\r\n",
        "                totalRepeated.append(y)\r\n",
        "            else:\r\n",
        "                if not totalRepeated.__contains__(y):\r\n",
        "                    totalFreq.append(y)\r\n",
        "            if(freq.__contains__(y)):\r\n",
        "                freq.remove(y)\r\n",
        "                repeated.append(y)\r\n",
        "            else:\r\n",
        "                if not repeated.__contains__(y):\r\n",
        "                    freq.append(y)\r\n",
        "        print(\"local freq:\"+str(len(freq)))\r\n",
        "    print(\"total freq:\" + str(len(totalFreq)))\r\n",
        "\r\n",
        "\r\n",
        "dataFrame = pd.DataFrame(np.random.randint(5, 10, 20).reshape(-1, 4), columns=list('abcd'))\r\n",
        "frequency(dataFrame)"
      ],
      "execution_count": 32,
      "outputs": [
        {
          "output_type": "stream",
          "text": [
            "[7 8 5 8]\n",
            "local freq:2\n",
            "[9 6 7 9]\n",
            "local freq:2\n",
            "[8 9 9 9]\n",
            "local freq:1\n",
            "[8 9 9 9]\n",
            "local freq:1\n",
            "[5 9 8 7]\n",
            "local freq:4\n",
            "total freq:1\n"
          ],
          "name": "stdout"
        }
      ]
    }
  ]
}