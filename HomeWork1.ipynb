{
  "nbformat": 4,
  "nbformat_minor": 0,
  "metadata": {
    "colab": {
      "name": "HomeWork2.ipynb",
      "provenance": [],
      "collapsed_sections": [],
      "authorship_tag": "ABX9TyPmGF86dtyZ53RFWTo/o+Xq",
      "include_colab_link": true
    },
    "kernelspec": {
      "name": "python3",
      "display_name": "Python 3"
    }
  },
  "cells": [
    {
      "cell_type": "markdown",
      "metadata": {
        "id": "view-in-github",
        "colab_type": "text"
      },
      "source": [
        "<a href=\"https://colab.research.google.com/github/srikacharla/CSC8980/blob/main/HomeWork1.ipynb\" target=\"_parent\"><img src=\"https://colab.research.google.com/assets/colab-badge.svg\" alt=\"Open In Colab\"/></a>"
      ]
    },
    {
      "cell_type": "markdown",
      "metadata": {
        "id": "TuBekyg-tI7d"
      },
      "source": [
        "Name: Sri Harsha Kacharla\r\n",
        "Student Id: 002556509"
      ]
    },
    {
      "cell_type": "markdown",
      "metadata": {
        "id": "UctYQodi1hLg"
      },
      "source": [
        "1. Write a piece of code using a regular expression in Python to count how many times\r\n",
        "the following name appears: CICERO, this regex needs to be case-sensitive. "
      ]
    },
    {
      "cell_type": "code",
      "metadata": {
        "colab": {
          "base_uri": "https://localhost:8080/"
        },
        "id": "1RYT1WZV1oBn",
        "outputId": "18bc0011-9f9e-4039-f173-46143e082e0c"
      },
      "source": [
        "import re\r\n",
        "\r\n",
        "string = \"\"\r\n",
        "with open(\"hw_1-text.txt\",\"r\") as f:\r\n",
        "    for line in f:\r\n",
        "       string+=line\r\n",
        "pattern = r'CICERO'\r\n",
        "count = 0\r\n",
        "for x in re.findall(pattern,string):\r\n",
        "    count+=1\r\n",
        "\r\n",
        "print(count)"
      ],
      "execution_count": 11,
      "outputs": [
        {
          "output_type": "stream",
          "text": [
            "7\n"
          ],
          "name": "stdout"
        }
      ]
    },
    {
      "cell_type": "markdown",
      "metadata": {
        "id": "swuWXB8q1uAJ"
      },
      "source": [
        "2. Write a regular expression in Python that finds all 6 character words found in this play."
      ]
    },
    {
      "cell_type": "code",
      "metadata": {
        "colab": {
          "base_uri": "https://localhost:8080/"
        },
        "id": "d0IBjWXx2JAo",
        "outputId": "6965d854-326f-4a1e-befe-275a6d697e7f"
      },
      "source": [
        "import re\r\n",
        "\r\n",
        "string = \"\"\r\n",
        "with open(\"hw_1-text.txt\",\"r\") as f:\r\n",
        "    for line in f:\r\n",
        "       string+=line\r\n",
        "pattern = r'[a-zA-z]{6}'\r\n",
        "count = 0\r\n",
        "for x in re.findall(pattern,string):\r\n",
        "    count+=1\r\n",
        "\r\n",
        "print(count)"
      ],
      "execution_count": 13,
      "outputs": [
        {
          "output_type": "stream",
          "text": [
            "4882\n"
          ],
          "name": "stdout"
        }
      ]
    },
    {
      "cell_type": "markdown",
      "metadata": {
        "id": "OUR2N58e2Mvw"
      },
      "source": [
        "3. Write a piece of code that uses a regular expression in Python to count how many\r\n",
        "words are capitalized in the first letter only"
      ]
    },
    {
      "cell_type": "code",
      "metadata": {
        "colab": {
          "base_uri": "https://localhost:8080/"
        },
        "id": "zWoR7K5L5zoG",
        "outputId": "a0676421-7ac2-4dc3-b335-fbdd793a7a58"
      },
      "source": [
        "import re\r\n",
        "\r\n",
        "string = \"\"\r\n",
        "with open(\"hw_1-text.txt\",\"r\") as f:\r\n",
        "    for line in f:\r\n",
        "       string+=line\r\n",
        "pattern = r'[A-Z][^\\s]*'\r\n",
        "count = 0\r\n",
        "for x in re.findall(pattern,string):\r\n",
        "    count+=1\r\n",
        "\r\n",
        "print(count)"
      ],
      "execution_count": 14,
      "outputs": [
        {
          "output_type": "stream",
          "text": [
            "5301\n"
          ],
          "name": "stdout"
        }
      ]
    },
    {
      "cell_type": "markdown",
      "metadata": {
        "id": "pISAQ7Pm52h0"
      },
      "source": [
        "4. Write a regular expression using groups in Python that extracts all phrases that have\r\n",
        "“son of ” and extract/output the answer in a case-insensitive way. For example, for the\r\n",
        "following “I am the son of earth”, should find “son of earth” and extract/output “earth”.\r\n"
      ]
    },
    {
      "cell_type": "code",
      "metadata": {
        "colab": {
          "base_uri": "https://localhost:8080/"
        },
        "id": "tRLydyZDAf0F",
        "outputId": "20acdca0-0a1e-48f8-835c-de8b03a7aaae"
      },
      "source": [
        "import re\r\n",
        "\r\n",
        "with open(\"hw_1-text.txt\",\"r\") as f:\r\n",
        "    for line in f:\r\n",
        "        pattern1 = re.compile(\" son of (.*?)\\s\", re.I)\r\n",
        "        searched = re.search(pattern1, line)\r\n",
        "        if searched != None:\r\n",
        "            print(searched.group(1))\r\n"
      ],
      "execution_count": 15,
      "outputs": [
        {
          "output_type": "stream",
          "text": [
            "Rome\n",
            "Caesar,\n",
            "Marcus\n",
            "Marcus\n"
          ],
          "name": "stdout"
        }
      ]
    },
    {
      "cell_type": "markdown",
      "metadata": {
        "id": "bCk8Ne8pArkY"
      },
      "source": [
        "5. Plays are divided in acts, write a regular expression using groups in Python that\r\n",
        "extracts the number of each act found in this play in a case-sensitive way"
      ]
    },
    {
      "cell_type": "code",
      "metadata": {
        "colab": {
          "base_uri": "https://localhost:8080/"
        },
        "id": "9iNOZaSCCN9X",
        "outputId": "8334da69-69b5-4abe-d614-6e941af9ca5e"
      },
      "source": [
        "import re\r\n",
        "\r\n",
        "RomanToInt = {\r\n",
        "    'I':1,\r\n",
        "    'II':2,\r\n",
        "    'III':3,\r\n",
        "    'IV':4,\r\n",
        "    'V':5\r\n",
        "}\r\n",
        "with open(\"hw_1-text.txt\",\"r\") as f:\r\n",
        "    for line in f:\r\n",
        "        # string+=line\r\n",
        "        pattern1 = re.compile(\"ACT (.*?)\\s\")\r\n",
        "        searched = re.search(pattern1, line)\r\n",
        "        if searched != None:\r\n",
        "            print('ACT '+str(searched.group(1)))\r\n",
        "            print('ACT '+str(RomanToInt.get(searched.group(1))))\r\n"
      ],
      "execution_count": 16,
      "outputs": [
        {
          "output_type": "stream",
          "text": [
            "ACT I\n",
            "ACT 1\n",
            "ACT II\n",
            "ACT 2\n",
            "ACT III\n",
            "ACT 3\n",
            "ACT IV\n",
            "ACT 4\n",
            "ACT V\n",
            "ACT 5\n"
          ],
          "name": "stdout"
        }
      ]
    },
    {
      "cell_type": "markdown",
      "metadata": {
        "id": "EYt6SkuADguV"
      },
      "source": [
        "6. Write a Python function that takes the file as an input and outputs how many lines end\r\n",
        "with: ? , that is a question mark at the end of the line. This function needs to use a\r\n",
        "regular expression"
      ]
    },
    {
      "cell_type": "code",
      "metadata": {
        "colab": {
          "base_uri": "https://localhost:8080/"
        },
        "id": "SjWslcZgDjYb",
        "outputId": "60f5dcf0-ef61-48fe-9428-3bc159ecca25"
      },
      "source": [
        "def linesEndingWith(file):\r\n",
        "    string = \"\"\r\n",
        "    count =0\r\n",
        "    pattern = re.compile(\".*\\\\?$\")\r\n",
        "    for line in file:\r\n",
        "        string+=line\r\n",
        "        search = re.search(pattern,line)\r\n",
        "        if search is not None:\r\n",
        "            count+=1\r\n",
        "    print(count)\r\n",
        "\r\n",
        "linesEndingWith(open(\"hw_1-text.txt\", \"r\"))"
      ],
      "execution_count": 17,
      "outputs": [
        {
          "output_type": "stream",
          "text": [
            "215\n"
          ],
          "name": "stdout"
        }
      ]
    },
    {
      "cell_type": "markdown",
      "metadata": {
        "id": "dtCB3Fpr6_ZK"
      },
      "source": [
        "7. Using the code from Class 04, train a Random Forest classification model for the same\r\n",
        "two newsgroups, generate the confusion matrix, and all the same performance metrics.\r\n"
      ]
    },
    {
      "cell_type": "code",
      "metadata": {
        "colab": {
          "base_uri": "https://localhost:8080/"
        },
        "id": "Jy7S7p1T7YUU",
        "outputId": "980765cd-e203-453d-e5a5-4f79f8564980"
      },
      "source": [
        "import numpy as np\r\n",
        "import matplotlib.pyplot as plt\r\n",
        "import seaborn as sns\r\n",
        "\r\n",
        "sns.set()\r\n",
        "from sklearn.datasets import fetch_20newsgroups\r\n",
        "\r\n",
        "data = fetch_20newsgroups()\r\n",
        "print(data.target_names)"
      ],
      "execution_count": 18,
      "outputs": [
        {
          "output_type": "stream",
          "text": [
            "Downloading 20news dataset. This may take a few minutes.\n",
            "Downloading dataset from https://ndownloader.figshare.com/files/5975967 (14 MB)\n"
          ],
          "name": "stderr"
        },
        {
          "output_type": "stream",
          "text": [
            "['alt.atheism', 'comp.graphics', 'comp.os.ms-windows.misc', 'comp.sys.ibm.pc.hardware', 'comp.sys.mac.hardware', 'comp.windows.x', 'misc.forsale', 'rec.autos', 'rec.motorcycles', 'rec.sport.baseball', 'rec.sport.hockey', 'sci.crypt', 'sci.electronics', 'sci.med', 'sci.space', 'soc.religion.christian', 'talk.politics.guns', 'talk.politics.mideast', 'talk.politics.misc', 'talk.religion.misc']\n"
          ],
          "name": "stdout"
        }
      ]
    },
    {
      "cell_type": "code",
      "metadata": {
        "id": "Rx-ggqVG9S3j"
      },
      "source": [
        "categories = ['rec.autos','comp.graphics']\r\n",
        "train = fetch_20newsgroups(subset='train', categories=categories)\r\n",
        "test = fetch_20newsgroups(subset='test', categories=categories)"
      ],
      "execution_count": 19,
      "outputs": []
    },
    {
      "cell_type": "code",
      "metadata": {
        "id": "mVTpDOAL9X6G"
      },
      "source": [
        "from sklearn.feature_extraction.text import CountVectorizer\r\n",
        "from sklearn.ensemble import RandomForestClassifier\r\n",
        "from sklearn.pipeline import make_pipeline\r\n",
        "from sklearn.metrics import confusion_matrix\r\n",
        "%matplotlib inline"
      ],
      "execution_count": 28,
      "outputs": []
    },
    {
      "cell_type": "code",
      "metadata": {
        "id": "whUIkPcO-CCB"
      },
      "source": [
        "model = make_pipeline(CountVectorizer(), RandomForestClassifier())\r\n",
        "model.fit(train.data, train.target)\r\n",
        "labels = model.predict(test.data)"
      ],
      "execution_count": 21,
      "outputs": []
    },
    {
      "cell_type": "code",
      "metadata": {
        "colab": {
          "base_uri": "https://localhost:8080/",
          "height": 285
        },
        "id": "vR5M-wOx-MLY",
        "outputId": "15c8a32a-d3d4-4c09-fe54-522e7dd264ac"
      },
      "source": [
        "mat = confusion_matrix(test.target, labels)\r\n",
        "sns.heatmap(mat.T, square=True, annot=True, fmt='d', cbar=False,\r\n",
        "            xticklabels=train.target_names, yticklabels=train.target_names)\r\n",
        "plt.xlabel('true label')\r\n",
        "plt.ylabel('predicted label');"
      ],
      "execution_count": 23,
      "outputs": [
        {
          "output_type": "display_data",
          "data": {
            "image/png": "[encoded data removed]",
            "text/plain": [
              "<Figure size 432x288 with 1 Axes>"
            ]
          },
          "metadata": {
            "tags": []
          }
        }
      ]
    },
    {
      "cell_type": "code",
      "metadata": {
        "colab": {
          "base_uri": "https://localhost:8080/"
        },
        "id": "Msi2Cqxj-TcP",
        "outputId": "c0041e74-db1e-49af-ae40-f8ac774683a0"
      },
      "source": [
        "print('Accuracy:', sklearn.metrics.accuracy_score(test.target,labels))\r\n",
        "print('Precision:', sklearn.metrics.precision_score(test.target,labels))\r\n",
        "print('Recall:', sklearn.metrics.recall_score(test.target,labels))\r\n",
        "print('F1 Score:', sklearn.metrics.f1_score(labels, test.target, average='macro'))\r\n",
        "print('Mean Absolute Error:', sklearn.metrics.mean_absolute_error(test.target,labels))\r\n",
        "print('Mean Squared Error:', sklearn.metrics.mean_squared_error(test.target, labels))  \r\n",
        "print('Root Mean Squared Error:', np.sqrt(sklearn.metrics.mean_squared_error(test.target, labels)))"
      ],
      "execution_count": 29,
      "outputs": [
        {
          "output_type": "stream",
          "text": [
            "Accuracy: 0.9184713375796179\n",
            "Precision: 0.9322916666666666\n",
            "Recall: 0.9040404040404041\n",
            "F1 Score: 0.9184680298604349\n",
            "Mean Absolute Error: 0.08152866242038216\n",
            "Mean Squared Error: 0.08152866242038216\n",
            "Root Mean Squared Error: 0.28553224409929984\n"
          ],
          "name": "stdout"
        }
      ]
    },
    {
      "cell_type": "markdown",
      "metadata": {
        "id": "0mAVsvfVEt8z"
      },
      "source": [
        "Bonus: Using the code from Class 04. Write a function to find the best\r\n",
        "performing model for the TF-IDF vectorization. The requirements for this are: 1) Pass all\r\n",
        "metrics for each model in a single dataframe (each row has a metric value, each column\r\n",
        "is a model type). 2) Make the decision of the best model by counting which column has\r\n",
        "the highest F1-score and accuracy."
      ]
    },
    {
      "cell_type": "code",
      "metadata": {
        "id": "AStqr9syEzZ4"
      },
      "source": [
        "from sklearn.feature_extraction.text import TfidfVectorizer\r\n",
        "from sklearn.naive_bayes import MultinomialNB\r\n",
        "from sklearn.linear_model import Perceptron\r\n",
        "from sklearn.linear_model import LogisticRegression\r\n",
        "from sklearn.tree import DecisionTreeClassifier\r\n",
        "import pandas as pd"
      ],
      "execution_count": 35,
      "outputs": []
    },
    {
      "cell_type": "code",
      "metadata": {
        "colab": {
          "base_uri": "https://localhost:8080/"
        },
        "id": "vpvB75hJF1dq",
        "outputId": "4930bf4f-c0fe-47cc-aadd-8a58049bbd40"
      },
      "source": [
        "def findBestModel():\r\n",
        "  Classifiersdict ={\r\n",
        "      0:RandomForestClassifier(),\r\n",
        "      1:MultinomialNB(),\r\n",
        "      2:Perceptron(),\r\n",
        "      3:LogisticRegression(),\r\n",
        "      4:DecisionTreeClassifier()\r\n",
        "  }\r\n",
        "  Classifiers = [\"RandomForestClassifier\",\"MultinomialNB\",\"Perceptron\",\"LogisticRegression\",\"DecisionTreeClassifier\"]\r\n",
        "  accuracy = []\r\n",
        "  precision = []\r\n",
        "  recall = []\r\n",
        "  f1score = []\r\n",
        "  mean_absolute_error = []\r\n",
        "  mean_squared_error = []\r\n",
        "  root_mean_squared_error = []\r\n",
        "  for i in range(0,5):\r\n",
        "    model = make_pipeline(TfidfVectorizer(),Classifiersdict.get(i)) \r\n",
        "    model.fit(train.data, train.target)\r\n",
        "    labels = model.predict(test.data)\r\n",
        "    accuracy.append(sklearn.metrics.accuracy_score(test.target,labels))\r\n",
        "    precision.append(sklearn.metrics.precision_score(test.target,labels))\r\n",
        "    recall.append(sklearn.metrics.recall_score(test.target,labels))\r\n",
        "    f1score.append(sklearn.metrics.f1_score(labels, test.target, average='macro'))\r\n",
        "    mean_absolute_error.append(sklearn.metrics.mean_absolute_error(test.target,labels))\r\n",
        "    mean_squared_error.append(sklearn.metrics.mean_squared_error(test.target, labels))\r\n",
        "    root_mean_squared_error.append(np.sqrt(sklearn.metrics.mean_squared_error(test.target, labels)))\r\n",
        "  df = pd.DataFrame(data=[accuracy,precision,recall,f1score,\r\n",
        "                          mean_absolute_error,mean_squared_error,root_mean_squared_error],columns=Classifiers)\r\n",
        "  bestClassifier=\"\"\r\n",
        "  bestF1=0\r\n",
        "  bestAccuracy = 0\r\n",
        "  for x in df:\r\n",
        "    if df.get(x)[3]>bestF1 and df.get(x)[0]>bestAccuracy:\r\n",
        "      bestValue = df.get(x)[3]\r\n",
        "      bestAccuracy = df.get(x)[0]\r\n",
        "      bestClassifier = x\r\n",
        "  print(bestClassifier)\r\n",
        "\r\n",
        "findBestModel()"
      ],
      "execution_count": 61,
      "outputs": [
        {
          "output_type": "stream",
          "text": [
            "LogisticRegression\n"
          ],
          "name": "stdout"
        }
      ]
    }
  ]
}